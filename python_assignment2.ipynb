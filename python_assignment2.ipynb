{
 "cells": [
  {
   "cell_type": "markdown",
   "metadata": {},
   "source": [
    "### Q61.Accept the String and print the words composed of digits only "
   ]
  },
  {
   "cell_type": "code",
   "execution_count": 2,
   "metadata": {},
   "outputs": [
    {
     "name": "stdout",
     "output_type": "stream",
     "text": [
      "Enter a string123mfnf\n",
      "1\n",
      "2\n",
      "3\n"
     ]
    }
   ],
   "source": [
    "sentence = input(\"Enter a string\")\n",
    "for i in sentence:\n",
    "    if i.isdigit():\n",
    "        print(i)"
   ]
  },
  {
   "cell_type": "markdown",
   "metadata": {},
   "source": [
    "### Q62.find the parity outlier from the given sequence use list comprehension seq=1,2,3,5,7 "
   ]
  },
  {
   "cell_type": "code",
   "execution_count": 3,
   "metadata": {},
   "outputs": [
    {
     "ename": "SyntaxError",
     "evalue": "invalid syntax (<ipython-input-3-e751ac334575>, line 2)",
     "output_type": "error",
     "traceback": [
      "\u001b[0;36m  File \u001b[0;32m\"<ipython-input-3-e751ac334575>\"\u001b[0;36m, line \u001b[0;32m2\u001b[0m\n\u001b[0;31m    [even == num for num in seq if num % 2 == 0 else odd==num for num in seq odd if len([odd]) < len([even] else even)]\u001b[0m\n\u001b[0m                                                ^\u001b[0m\n\u001b[0;31mSyntaxError\u001b[0m\u001b[0;31m:\u001b[0m invalid syntax\n"
     ]
    }
   ],
   "source": [
    "seq=[1,2,3,4,5,7]\n",
    "[even == num for num in seq if num % 2 == 0 else odd==num for num in seq odd if len([odd]) < len([even] else even)]\n",
    "    \n",
    "    "
   ]
  },
  {
   "cell_type": "code",
   "execution_count": 4,
   "metadata": {},
   "outputs": [
    {
     "data": {
      "text/plain": [
       "4"
      ]
     },
     "execution_count": 4,
     "metadata": {},
     "output_type": "execute_result"
    }
   ],
   "source": [
    "def find_outlier(list_integers):\n",
    "    for num in list_integers:\n",
    "       if num % 2 != 0:\n",
    "         odd = num\n",
    "       elif num % 2 == 0:\n",
    "         even = num\n",
    "    for num in list_integers:\n",
    "      if len([odd]) < len([even]):\n",
    "        return odd\n",
    "      else:\n",
    "        return even\n",
    "\n",
    "\n",
    "a= [1,2,3,4,5,7,9]\n",
    "find_outlier(a)"
   ]
  },
  {
   "cell_type": "markdown",
   "metadata": {},
   "source": [
    "### Q66.Write a program that inputs a number from the user and displays the factorial of that number using while loop. "
   ]
  },
  {
   "cell_type": "code",
   "execution_count": 6,
   "metadata": {},
   "outputs": [
    {
     "name": "stdout",
     "output_type": "stream",
     "text": [
      "Enter a number:8\n",
      "the factorila 8 is 40320\n"
     ]
    }
   ],
   "source": [
    "\n",
    "num = int(input(\"Enter a number:\"))\n",
    "num1 = num\n",
    "fac = 1\n",
    "\n",
    "while True:\n",
    "    fac *= --num\n",
    "    num -= 1 \n",
    "    if num == 1:\n",
    "        break\n",
    "print(f\"the factorila {num1} is {fac}\")\n"
   ]
  },
  {
   "cell_type": "markdown",
   "metadata": {},
   "source": [
    "### Q 67.Ask the user for a number,to pick the color from the list print the color. color= Blue, Green, Orange, Red "
   ]
  },
  {
   "cell_type": "code",
   "execution_count": 8,
   "metadata": {},
   "outputs": [
    {
     "name": "stdout",
     "output_type": "stream",
     "text": [
      "enter a number from 1-4 to choose color : 2\n",
      "Green\n"
     ]
    }
   ],
   "source": [
    "user_num = int(input(\"enter a number from 1-4 to choose color : \"))\n",
    "color = ['Blue','Green','Orange','Red']\n",
    "#enum_color = list(enumerate(color))\n",
    "if user_num == 1:\n",
    "    print(color[0])\n",
    "elif user_num == 2:\n",
    "    print(color[1])\n",
    "elif user_num == 3:\n",
    "    print(color[2])\n",
    "elif user_num == 4:\n",
    "    print(color[3])\n",
    "else:\n",
    "    print(\"you input the nymber mor than 4. please choose number for 1 to 4.Thank you\")\n",
    "\n",
    "\n",
    "\n",
    "\n",
    "\n",
    "\n",
    "#st = [enum_color[1] if user_num== enum_color[0]]\n",
    "#print(st)"
   ]
  },
  {
   "cell_type": "markdown",
   "metadata": {},
   "source": [
    "### Q68.Write a program that computes the value of a+aa+aaa+aaaa with a given digit as the value of a. "
   ]
  },
  {
   "cell_type": "code",
   "execution_count": null,
   "metadata": {},
   "outputs": [],
   "source": []
  },
  {
   "cell_type": "code",
   "execution_count": 9,
   "metadata": {},
   "outputs": [
    {
     "name": "stdout",
     "output_type": "stream",
     "text": [
      "Enter value: 23\n",
      "23466992\n"
     ]
    }
   ],
   "source": [
    "a = input(\"Enter value: \")\n",
    "\n",
    "n1 = a * 1\n",
    "n2 = a * 2\n",
    "n3 = a * 3\n",
    "n4 = a * 4\n",
    "\n",
    "total = int(n1) + int(n2) + int(n3) + int(n4)\n",
    "print(total)\n"
   ]
  },
  {
   "cell_type": "markdown",
   "metadata": {},
   "source": [
    "### Q69.write a program that lets user to input the value seperate by \",\" and create a list from it using list comprehension "
   ]
  },
  {
   "cell_type": "code",
   "execution_count": 10,
   "metadata": {},
   "outputs": [
    {
     "name": "stdout",
     "output_type": "stream",
     "text": [
      "Enter a long num with comma: 123,12,2,3,2,3\n",
      "['123', '12', '2', '3', '2', '3']\n"
     ]
    }
   ],
   "source": [
    "val = input(\"Enter a long num with comma: \")\n",
    "new_list =[x for x in val.split(',')]\n",
    " \n",
    "#new_lis = list(val.split(','))\n",
    "print(new_list)"
   ]
  },
  {
   "cell_type": "markdown",
   "metadata": {},
   "source": [
    "### Q70.Write a program that calculates and prints the value according to the given formula: Q = Square root of (2 C D)/H given, c=50 h=30 D is the variable whose values should be input to your program in a comma-separated sequence. Example 100,150,180 The output : 18,22,24 "
   ]
  },
  {
   "cell_type": "code",
   "execution_count": 11,
   "metadata": {},
   "outputs": [
    {
     "name": "stdout",
     "output_type": "stream",
     "text": [
      "enter number with comma: 12,3,4,5,6,90\n",
      "4.242640687119285\n"
     ]
    }
   ],
   "source": [
    "import math\n",
    "def cal():\n",
    "    num_input = input(\"enter number with comma: \")\n",
    "    new_list1 =[x for x in num_input.split(',')]\n",
    "    \n",
    "    c= int(new_list1[0])\n",
    "    d= int(new_list1[1])\n",
    "    h= int(new_list1[2])\n",
    "    Q = math.sqrt(2*d*c/h)\n",
    "    print(Q)\n",
    "cal()"
   ]
  },
  {
   "cell_type": "markdown",
   "metadata": {},
   "source": [
    "### Q71.Write a program that accepts a sequence of whitespace separated words as input and prints the words after removing all duplicate words and sorting them alphanumerically. "
   ]
  },
  {
   "cell_type": "code",
   "execution_count": 14,
   "metadata": {},
   "outputs": [
    {
     "name": "stdout",
     "output_type": "stream",
     "text": [
      "Enter words with whitespace :mani nha\n",
      "{'mani', 'nha'}\n"
     ]
    }
   ],
   "source": [
    "word_input= input(\"Enter words with whitespace :\")\n",
    "lst =[word for word in word_input.split(' ')]\n",
    "print(set(lst))"
   ]
  },
  {
   "cell_type": "markdown",
   "metadata": {},
   "source": [
    "### Q72.Write a program which accepts a sequence of comma separated 4 digit binary numbers and then check whether they are divisible by 5 or not. print the number Example: 0100,0011,1010,1001 Then the output should be: 1010 "
   ]
  },
  {
   "cell_type": "code",
   "execution_count": null,
   "metadata": {},
   "outputs": [],
   "source": [
    "binary = input()"
   ]
  },
  {
   "cell_type": "code",
   "execution_count": null,
   "metadata": {},
   "outputs": [],
   "source": []
  },
  {
   "cell_type": "code",
   "execution_count": null,
   "metadata": {},
   "outputs": [],
   "source": []
  },
  {
   "cell_type": "code",
   "execution_count": null,
   "metadata": {},
   "outputs": [],
   "source": []
  },
  {
   "cell_type": "code",
   "execution_count": null,
   "metadata": {},
   "outputs": [],
   "source": []
  },
  {
   "cell_type": "code",
   "execution_count": null,
   "metadata": {},
   "outputs": [],
   "source": []
  },
  {
   "cell_type": "code",
   "execution_count": null,
   "metadata": {},
   "outputs": [],
   "source": []
  },
  {
   "cell_type": "code",
   "execution_count": null,
   "metadata": {},
   "outputs": [],
   "source": []
  },
  {
   "cell_type": "code",
   "execution_count": null,
   "metadata": {},
   "outputs": [],
   "source": []
  },
  {
   "cell_type": "code",
   "execution_count": null,
   "metadata": {},
   "outputs": [],
   "source": []
  }
 ],
 "metadata": {
  "kernelspec": {
   "display_name": "Python 3",
   "language": "python",
   "name": "python3"
  },
  "language_info": {
   "codemirror_mode": {
    "name": "ipython",
    "version": 3
   },
   "file_extension": ".py",
   "mimetype": "text/x-python",
   "name": "python",
   "nbconvert_exporter": "python",
   "pygments_lexer": "ipython3",
   "version": "3.8.1"
  }
 },
 "nbformat": 4,
 "nbformat_minor": 4
}
