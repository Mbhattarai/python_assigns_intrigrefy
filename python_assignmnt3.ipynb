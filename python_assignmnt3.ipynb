{
 "cells": [
  {
   "cell_type": "code",
   "execution_count": 3,
   "metadata": {},
   "outputs": [
    {
     "name": "stdout",
     "output_type": "stream",
     "text": [
      "Enter a binary number1001,1001\n"
     ]
    }
   ],
   "source": [
    "add_list =[]\n",
    "bin_num = input(\"Enter a binary number\")\n",
    "num = [x for x in bin_num.split(',')]\n",
    "for i in num:\n",
    "    x = int(i,2)\n",
    "    if not x%5:\n",
    "        item.append(i)"
   ]
  },
  {
   "cell_type": "markdown",
   "metadata": {},
   "source": [
    "### Q71 By using list comprehension, please write a program to print the list after removing the even index numbers li=range(10) "
   ]
  },
  {
   "cell_type": "code",
   "execution_count": 6,
   "metadata": {},
   "outputs": [
    {
     "ename": "TypeError",
     "evalue": "cannot unpack non-iterable int object",
     "output_type": "error",
     "traceback": [
      "\u001b[0;31m---------------------------------------------------------------------------\u001b[0m",
      "\u001b[0;31mTypeError\u001b[0m                                 Traceback (most recent call last)",
      "\u001b[0;32m<ipython-input-6-c77adb06a7dd>\u001b[0m in \u001b[0;36m<module>\u001b[0;34m\u001b[0m\n\u001b[1;32m      1\u001b[0m \u001b[0mli\u001b[0m \u001b[0;34m=\u001b[0m \u001b[0mrange\u001b[0m\u001b[0;34m(\u001b[0m\u001b[0;36m10\u001b[0m\u001b[0;34m)\u001b[0m\u001b[0;34m\u001b[0m\u001b[0;34m\u001b[0m\u001b[0m\n\u001b[1;32m      2\u001b[0m \u001b[0menum\u001b[0m \u001b[0;34m=\u001b[0m \u001b[0menumerate\u001b[0m\u001b[0;34m(\u001b[0m\u001b[0mli\u001b[0m\u001b[0;34m)\u001b[0m\u001b[0;34m\u001b[0m\u001b[0;34m\u001b[0m\u001b[0m\n\u001b[0;32m----> 3\u001b[0;31m \u001b[0mprod\u001b[0m \u001b[0;34m=\u001b[0m \u001b[0;34m[\u001b[0m\u001b[0mx\u001b[0m \u001b[0;32mfor\u001b[0m \u001b[0;34m(\u001b[0m\u001b[0mi\u001b[0m\u001b[0;34m,\u001b[0m\u001b[0mx\u001b[0m\u001b[0;34m)\u001b[0m \u001b[0;32min\u001b[0m \u001b[0mli\u001b[0m \u001b[0;32mif\u001b[0m \u001b[0mi\u001b[0m\u001b[0;34m%\u001b[0m\u001b[0;36m2\u001b[0m\u001b[0;34m!=\u001b[0m\u001b[0;36m0\u001b[0m\u001b[0;34m]\u001b[0m\u001b[0;34m\u001b[0m\u001b[0;34m\u001b[0m\u001b[0m\n\u001b[0m\u001b[1;32m      4\u001b[0m \u001b[0mprint\u001b[0m\u001b[0;34m(\u001b[0m\u001b[0mprod\u001b[0m\u001b[0;34m)\u001b[0m\u001b[0;34m\u001b[0m\u001b[0;34m\u001b[0m\u001b[0m\n",
      "\u001b[0;32m<ipython-input-6-c77adb06a7dd>\u001b[0m in \u001b[0;36m<listcomp>\u001b[0;34m(.0)\u001b[0m\n\u001b[1;32m      1\u001b[0m \u001b[0mli\u001b[0m \u001b[0;34m=\u001b[0m \u001b[0mrange\u001b[0m\u001b[0;34m(\u001b[0m\u001b[0;36m10\u001b[0m\u001b[0;34m)\u001b[0m\u001b[0;34m\u001b[0m\u001b[0;34m\u001b[0m\u001b[0m\n\u001b[1;32m      2\u001b[0m \u001b[0menum\u001b[0m \u001b[0;34m=\u001b[0m \u001b[0menumerate\u001b[0m\u001b[0;34m(\u001b[0m\u001b[0mli\u001b[0m\u001b[0;34m)\u001b[0m\u001b[0;34m\u001b[0m\u001b[0;34m\u001b[0m\u001b[0m\n\u001b[0;32m----> 3\u001b[0;31m \u001b[0mprod\u001b[0m \u001b[0;34m=\u001b[0m \u001b[0;34m[\u001b[0m\u001b[0mx\u001b[0m \u001b[0;32mfor\u001b[0m \u001b[0;34m(\u001b[0m\u001b[0mi\u001b[0m\u001b[0;34m,\u001b[0m\u001b[0mx\u001b[0m\u001b[0;34m)\u001b[0m \u001b[0;32min\u001b[0m \u001b[0mli\u001b[0m \u001b[0;32mif\u001b[0m \u001b[0mi\u001b[0m\u001b[0;34m%\u001b[0m\u001b[0;36m2\u001b[0m\u001b[0;34m!=\u001b[0m\u001b[0;36m0\u001b[0m\u001b[0;34m]\u001b[0m\u001b[0;34m\u001b[0m\u001b[0;34m\u001b[0m\u001b[0m\n\u001b[0m\u001b[1;32m      4\u001b[0m \u001b[0mprint\u001b[0m\u001b[0;34m(\u001b[0m\u001b[0mprod\u001b[0m\u001b[0;34m)\u001b[0m\u001b[0;34m\u001b[0m\u001b[0;34m\u001b[0m\u001b[0m\n",
      "\u001b[0;31mTypeError\u001b[0m: cannot unpack non-iterable int object"
     ]
    }
   ],
   "source": [
    "li = range(10)\n",
    "enum = enumerate(li)\n",
    "prod = [x for (i,x) in li if i%2!=0]\n",
    "print(prod)"
   ]
  },
  {
   "cell_type": "markdown",
   "metadata": {},
   "source": [
    "### Q72 write a function to get the sum of two num(use lambda) "
   ]
  },
  {
   "cell_type": "code",
   "execution_count": 7,
   "metadata": {},
   "outputs": [
    {
     "data": {
      "text/plain": [
       "5"
      ]
     },
     "execution_count": 7,
     "metadata": {},
     "output_type": "execute_result"
    }
   ],
   "source": [
    "sum_of_two_number = lambda a,b: a+b\n",
    "sum_of_two_number(2,3)"
   ]
  },
  {
   "cell_type": "markdown",
   "metadata": {},
   "source": [
    "### Q74. write a function to print if leap year or not"
   ]
  },
  {
   "cell_type": "code",
   "execution_count": 8,
   "metadata": {},
   "outputs": [
    {
     "name": "stdout",
     "output_type": "stream",
     "text": [
      "2004 is lep year\n"
     ]
    }
   ],
   "source": [
    "leap_year = lambda year:print(f\"{year} is lep year\") if year%4==0  else (f\"{year} is not leap year\")\n",
    "leap_year(2004)"
   ]
  },
  {
   "cell_type": "markdown",
   "metadata": {},
   "source": [
    "### Q 75. write a function to count a bit(number of 1) in number (use lambda) "
   ]
  },
  {
   "cell_type": "code",
   "execution_count": 10,
   "metadata": {},
   "outputs": [
    {
     "data": {
      "text/plain": [
       "3"
      ]
     },
     "execution_count": 10,
     "metadata": {},
     "output_type": "execute_result"
    }
   ],
   "source": [
    "def one_count(n):\n",
    "    num_binary = str(bin(n))\n",
    "    count = 0\n",
    "    for i in num_binary:\n",
    "        if i=='1':\n",
    "            count+=1\n",
    "    return count\n",
    "        \n",
    "one_count(13)"
   ]
  },
  {
   "cell_type": "markdown",
   "metadata": {},
   "source": [
    "### Q76.write a program to get the area of a circle from the radius (use lambda)             "
   ]
  },
  {
   "cell_type": "code",
   "execution_count": 11,
   "metadata": {},
   "outputs": [
    {
     "data": {
      "text/plain": [
       "28.274333882308138"
      ]
     },
     "execution_count": 11,
     "metadata": {},
     "output_type": "execute_result"
    }
   ],
   "source": [
    "import math\n",
    "area_circle =  lambda r : math.pi*r*r\n",
    "area_circle(3)"
   ]
  },
  {
   "cell_type": "markdown",
   "metadata": {},
   "source": [
    "### Q77write a function to get the factorial of given number use recurssion "
   ]
  },
  {
   "cell_type": "code",
   "execution_count": 12,
   "metadata": {},
   "outputs": [
    {
     "data": {
      "text/plain": [
       "6"
      ]
     },
     "execution_count": 12,
     "metadata": {},
     "output_type": "execute_result"
    }
   ],
   "source": [
    "def factorail_recursin(n):\n",
    "    if n==1:\n",
    "        return n\n",
    "        \n",
    "    elif n==0:\n",
    "        return ('ZERO factorial is zero')\n",
    "    elif n<0:\n",
    "        return (\"negative number doesnot have factorial\")\n",
    "    else:\n",
    "        return n*factorail_recursin(n-1)\n",
    "factorail_recursin(3)"
   ]
  },
  {
   "cell_type": "markdown",
   "metadata": {},
   "source": [
    "### Q78.write a program to remove a duplicate word in a list or user input sentences. "
   ]
  },
  {
   "cell_type": "code",
   "execution_count": 13,
   "metadata": {},
   "outputs": [
    {
     "data": {
      "text/plain": [
       "'This is check for the duplicate word '"
      ]
     },
     "execution_count": 13,
     "metadata": {},
     "output_type": "execute_result"
    }
   ],
   "source": [
    "string_input = \"This is check check for the duplicate word duplicate word \"\n",
    "\n",
    "n = [word for word in string_input.split(\" \")]\n",
    "a = ' '.join(sorted(set(n),key=n.index))\n",
    "#a\n",
    "a"
   ]
  },
  {
   "cell_type": "markdown",
   "metadata": {},
   "source": [
    "### Q79.calculate fibonacci "
   ]
  },
  {
   "cell_type": "code",
   "execution_count": 14,
   "metadata": {},
   "outputs": [
    {
     "name": "stdout",
     "output_type": "stream",
     "text": [
      "Enter a numbet of terms: 12\n",
      "Fibonacci is : \n",
      "0\n",
      "1\n",
      "1\n",
      "2\n",
      "3\n",
      "5\n",
      "8\n",
      "13\n",
      "21\n",
      "34\n",
      "55\n",
      "89\n"
     ]
    }
   ],
   "source": [
    "terms = int(input(\"Enter a numbet of terms: \"))\n",
    "n1,n2 = 0,1\n",
    "count = 0\n",
    "if terms <=0:\n",
    "    print(\"Pleas enter a positive integer\")\n",
    "else:\n",
    "    print(\"Fibonacci is : \")\n",
    "    while count < terms:\n",
    "        print(n1)\n",
    "        nth = n1 +n2\n",
    "        n1=n2\n",
    "        n2=nth\n",
    "        count+=1\n"
   ]
  },
  {
   "cell_type": "markdown",
   "metadata": {},
   "source": [
    "### Q80.write a function to get the premutation and combination "
   ]
  },
  {
   "cell_type": "code",
   "execution_count": 15,
   "metadata": {},
   "outputs": [],
   "source": [
    "from itertools import permutations,combinations\n",
    "def permutations_number(lst1):\n",
    "    perm = permutations(lst1)\n",
    "    for i in list(perm):\n",
    "        print(i)\n"
   ]
  },
  {
   "cell_type": "code",
   "execution_count": 16,
   "metadata": {},
   "outputs": [
    {
     "name": "stdout",
     "output_type": "stream",
     "text": [
      "(1, 2, 3, 4, 5)\n",
      "(1, 2, 3, 5, 4)\n",
      "(1, 2, 4, 3, 5)\n",
      "(1, 2, 4, 5, 3)\n",
      "(1, 2, 5, 3, 4)\n",
      "(1, 2, 5, 4, 3)\n",
      "(1, 3, 2, 4, 5)\n",
      "(1, 3, 2, 5, 4)\n",
      "(1, 3, 4, 2, 5)\n",
      "(1, 3, 4, 5, 2)\n",
      "(1, 3, 5, 2, 4)\n",
      "(1, 3, 5, 4, 2)\n",
      "(1, 4, 2, 3, 5)\n",
      "(1, 4, 2, 5, 3)\n",
      "(1, 4, 3, 2, 5)\n",
      "(1, 4, 3, 5, 2)\n",
      "(1, 4, 5, 2, 3)\n",
      "(1, 4, 5, 3, 2)\n",
      "(1, 5, 2, 3, 4)\n",
      "(1, 5, 2, 4, 3)\n",
      "(1, 5, 3, 2, 4)\n",
      "(1, 5, 3, 4, 2)\n",
      "(1, 5, 4, 2, 3)\n",
      "(1, 5, 4, 3, 2)\n",
      "(2, 1, 3, 4, 5)\n",
      "(2, 1, 3, 5, 4)\n",
      "(2, 1, 4, 3, 5)\n",
      "(2, 1, 4, 5, 3)\n",
      "(2, 1, 5, 3, 4)\n",
      "(2, 1, 5, 4, 3)\n",
      "(2, 3, 1, 4, 5)\n",
      "(2, 3, 1, 5, 4)\n",
      "(2, 3, 4, 1, 5)\n",
      "(2, 3, 4, 5, 1)\n",
      "(2, 3, 5, 1, 4)\n",
      "(2, 3, 5, 4, 1)\n",
      "(2, 4, 1, 3, 5)\n",
      "(2, 4, 1, 5, 3)\n",
      "(2, 4, 3, 1, 5)\n",
      "(2, 4, 3, 5, 1)\n",
      "(2, 4, 5, 1, 3)\n",
      "(2, 4, 5, 3, 1)\n",
      "(2, 5, 1, 3, 4)\n",
      "(2, 5, 1, 4, 3)\n",
      "(2, 5, 3, 1, 4)\n",
      "(2, 5, 3, 4, 1)\n",
      "(2, 5, 4, 1, 3)\n",
      "(2, 5, 4, 3, 1)\n",
      "(3, 1, 2, 4, 5)\n",
      "(3, 1, 2, 5, 4)\n",
      "(3, 1, 4, 2, 5)\n",
      "(3, 1, 4, 5, 2)\n",
      "(3, 1, 5, 2, 4)\n",
      "(3, 1, 5, 4, 2)\n",
      "(3, 2, 1, 4, 5)\n",
      "(3, 2, 1, 5, 4)\n",
      "(3, 2, 4, 1, 5)\n",
      "(3, 2, 4, 5, 1)\n",
      "(3, 2, 5, 1, 4)\n",
      "(3, 2, 5, 4, 1)\n",
      "(3, 4, 1, 2, 5)\n",
      "(3, 4, 1, 5, 2)\n",
      "(3, 4, 2, 1, 5)\n",
      "(3, 4, 2, 5, 1)\n",
      "(3, 4, 5, 1, 2)\n",
      "(3, 4, 5, 2, 1)\n",
      "(3, 5, 1, 2, 4)\n",
      "(3, 5, 1, 4, 2)\n",
      "(3, 5, 2, 1, 4)\n",
      "(3, 5, 2, 4, 1)\n",
      "(3, 5, 4, 1, 2)\n",
      "(3, 5, 4, 2, 1)\n",
      "(4, 1, 2, 3, 5)\n",
      "(4, 1, 2, 5, 3)\n",
      "(4, 1, 3, 2, 5)\n",
      "(4, 1, 3, 5, 2)\n",
      "(4, 1, 5, 2, 3)\n",
      "(4, 1, 5, 3, 2)\n",
      "(4, 2, 1, 3, 5)\n",
      "(4, 2, 1, 5, 3)\n",
      "(4, 2, 3, 1, 5)\n",
      "(4, 2, 3, 5, 1)\n",
      "(4, 2, 5, 1, 3)\n",
      "(4, 2, 5, 3, 1)\n",
      "(4, 3, 1, 2, 5)\n",
      "(4, 3, 1, 5, 2)\n",
      "(4, 3, 2, 1, 5)\n",
      "(4, 3, 2, 5, 1)\n",
      "(4, 3, 5, 1, 2)\n",
      "(4, 3, 5, 2, 1)\n",
      "(4, 5, 1, 2, 3)\n",
      "(4, 5, 1, 3, 2)\n",
      "(4, 5, 2, 1, 3)\n",
      "(4, 5, 2, 3, 1)\n",
      "(4, 5, 3, 1, 2)\n",
      "(4, 5, 3, 2, 1)\n",
      "(5, 1, 2, 3, 4)\n",
      "(5, 1, 2, 4, 3)\n",
      "(5, 1, 3, 2, 4)\n",
      "(5, 1, 3, 4, 2)\n",
      "(5, 1, 4, 2, 3)\n",
      "(5, 1, 4, 3, 2)\n",
      "(5, 2, 1, 3, 4)\n",
      "(5, 2, 1, 4, 3)\n",
      "(5, 2, 3, 1, 4)\n",
      "(5, 2, 3, 4, 1)\n",
      "(5, 2, 4, 1, 3)\n",
      "(5, 2, 4, 3, 1)\n",
      "(5, 3, 1, 2, 4)\n",
      "(5, 3, 1, 4, 2)\n",
      "(5, 3, 2, 1, 4)\n",
      "(5, 3, 2, 4, 1)\n",
      "(5, 3, 4, 1, 2)\n",
      "(5, 3, 4, 2, 1)\n",
      "(5, 4, 1, 2, 3)\n",
      "(5, 4, 1, 3, 2)\n",
      "(5, 4, 2, 1, 3)\n",
      "(5, 4, 2, 3, 1)\n",
      "(5, 4, 3, 1, 2)\n",
      "(5, 4, 3, 2, 1)\n"
     ]
    }
   ],
   "source": [
    "ls  =[1,2,3,4,5]\n",
    "permutations_number(ls)"
   ]
  },
  {
   "cell_type": "code",
   "execution_count": 17,
   "metadata": {},
   "outputs": [],
   "source": [
    "def combination_number(lst2,r):\n",
    "    comb= combinations(lst2,r)\n",
    "    for i in list(comb):\n",
    "        print (i)"
   ]
  },
  {
   "cell_type": "code",
   "execution_count": 18,
   "metadata": {},
   "outputs": [
    {
     "name": "stdout",
     "output_type": "stream",
     "text": [
      "(1, 2)\n",
      "(1, 3)\n",
      "(1, 4)\n",
      "(1, 5)\n",
      "(2, 3)\n",
      "(2, 4)\n",
      "(2, 5)\n",
      "(3, 4)\n",
      "(3, 5)\n",
      "(4, 5)\n"
     ]
    }
   ],
   "source": [
    "combination_number(ls,2)"
   ]
  },
  {
   "cell_type": "markdown",
   "metadata": {},
   "source": [
    "### Q81.write a function to draw a diamond shape from a user given number: hint: only odd number can draw a diamond shape "
   ]
  },
  {
   "cell_type": "code",
   "execution_count": null,
   "metadata": {},
   "outputs": [],
   "source": []
  },
  {
   "cell_type": "markdown",
   "metadata": {},
   "source": [
    "### Q82.build a simple calculator which can: add subtract multiply divide "
   ]
  },
  {
   "cell_type": "code",
   "execution_count": 19,
   "metadata": {},
   "outputs": [
    {
     "name": "stdout",
     "output_type": "stream",
     "text": [
      "Select the option fopr the action\n",
      "add. for adition\n",
      "sub. For subtraction\n",
      "multi. For multipliction\n",
      "div. For Division\n",
      "Enter  action that you want to do for calculator operaadd\n",
      "Enter first number: 23\n",
      "Enter second  number: 23\n",
      "23 + 23 = 46\n",
      "Enter  action that you want to do for calculator opera\n",
      "The choice is invalid\n"
     ]
    }
   ],
   "source": [
    "#creating function for the opertion in calculator \n",
    "def add(a,b):\n",
    "    return a+b\n",
    "def sub(a,b):\n",
    "    return a-b\n",
    "def multiply(a,b):\n",
    "    return a*b\n",
    "def division(a,b):\n",
    "    return a/b\n",
    "\n",
    "print(\"Select the option fopr the action\")\n",
    "print(\"add. for adition\")\n",
    "print(\"sub. For subtraction\")\n",
    "print(\"multi. For multipliction\")\n",
    "print(\"div. For Division\")\n",
    "\n",
    "\n",
    "while True:\n",
    "    choice = input(\"Enter  action that you want to do for calculator opera\")\n",
    "    \n",
    "    if choice in ['add','sub','multi','div'] :\n",
    "        num1 = int(input (\"Enter first number: \"))\n",
    "        num2 = int(input(\"Enter second  number: \"))\n",
    "        \n",
    "        if choice == 'add':\n",
    "            print(f\"{num1} + {num2} = {add(num1,num2)}\")\n",
    "        if choice =='sub':\n",
    "            print(f\"{num1} - {num2} = {sub(num1,num2)}\")\n",
    "        if choice == 'multi':\n",
    "            print(f\"{num1} * {num2} = {multiply(num1,num2)}\")\n",
    "        if choice== 'div':\n",
    "            print(f\"{num1} / {num2} = {division(num1,num2)}\")\n",
    "    else:\n",
    "        print(\"The choice is invalid\")\n",
    "        break\n",
    "\n",
    "                 \n",
    "                         \n",
    "                         "
   ]
  },
  {
   "cell_type": "markdown",
   "metadata": {},
   "source": [
    "### Q83. define a function which can print a given string in a circular rotation "
   ]
  },
  {
   "cell_type": "code",
   "execution_count": 20,
   "metadata": {},
   "outputs": [],
   "source": [
    "def rotation():\n",
    "    b = \"abcd\"\n",
    "    for i in range(len(b)-1):\n",
    "        a = b[i:]\n",
    "        print (a)"
   ]
  },
  {
   "cell_type": "code",
   "execution_count": null,
   "metadata": {},
   "outputs": [],
   "source": [
    "rotation()"
   ]
  },
  {
   "cell_type": "code",
   "execution_count": null,
   "metadata": {},
   "outputs": [],
   "source": [
    "13+11+17+12"
   ]
  },
  {
   "cell_type": "code",
   "execution_count": null,
   "metadata": {},
   "outputs": [],
   "source": []
  }
 ],
 "metadata": {
  "kernelspec": {
   "display_name": "Python 3",
   "language": "python",
   "name": "python3"
  },
  "language_info": {
   "codemirror_mode": {
    "name": "ipython",
    "version": 3
   },
   "file_extension": ".py",
   "mimetype": "text/x-python",
   "name": "python",
   "nbconvert_exporter": "python",
   "pygments_lexer": "ipython3",
   "version": "3.8.1"
  }
 },
 "nbformat": 4,
 "nbformat_minor": 4
}
