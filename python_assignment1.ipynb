{
 "cells": [
  {
   "cell_type": "markdown",
   "metadata": {},
   "source": [
    "### Q1.Calculate Area of a Circle "
   ]
  },
  {
   "cell_type": "code",
   "execution_count": 1,
   "metadata": {},
   "outputs": [
    {
     "data": {
      "text/plain": [
       "78.53981633974483"
      ]
     },
     "execution_count": 1,
     "metadata": {},
     "output_type": "execute_result"
    }
   ],
   "source": [
    "import math\n",
    "def area_of_circle(r):\n",
    "    #pi=3.14\n",
    "    area = math.pi*r*r\n",
    "    return area\n",
    "area_of_circle(5)"
   ]
  },
  {
   "cell_type": "markdown",
   "metadata": {},
   "source": [
    "### Q2.Say Hello to user, Expected, ‘Hello name’ "
   ]
  },
  {
   "cell_type": "code",
   "execution_count": 2,
   "metadata": {},
   "outputs": [
    {
     "name": "stdout",
     "output_type": "stream",
     "text": [
      "Enter your name:\n",
      "Mani\n",
      "Hello, Mani\n"
     ]
    }
   ],
   "source": [
    "print('Enter your name:')\n",
    "name = input()\n",
    "print('Hello, ' + name)"
   ]
  },
  {
   "cell_type": "markdown",
   "metadata": {},
   "source": [
    "### Q3.Calculate Volume of Sphere "
   ]
  },
  {
   "cell_type": "code",
   "execution_count": 3,
   "metadata": {},
   "outputs": [
    {
     "data": {
      "text/plain": [
       "104.71975511965977"
      ]
     },
     "execution_count": 3,
     "metadata": {},
     "output_type": "execute_result"
    }
   ],
   "source": [
    "def volume_sphere(r):\n",
    "    #pi=3.14\n",
    "    volume= (4/3)*math.pi*r*r\n",
    "    return volume\n",
    "\n",
    "volume_sphere(5)"
   ]
  },
  {
   "cell_type": "markdown",
   "metadata": {},
   "source": [
    "### Q4.Copy String in n times "
   ]
  },
  {
   "cell_type": "code",
   "execution_count": 4,
   "metadata": {},
   "outputs": [
    {
     "name": "stdout",
     "output_type": "stream",
     "text": [
      "mani mani mani \n"
     ]
    }
   ],
   "source": [
    "st = \"mani \"*3\n",
    "print(st)"
   ]
  },
  {
   "cell_type": "markdown",
   "metadata": {},
   "source": [
    "### Q5.Calculate Area of a Triangle "
   ]
  },
  {
   "cell_type": "code",
   "execution_count": 5,
   "metadata": {},
   "outputs": [
    {
     "data": {
      "text/plain": [
       "3.0"
      ]
     },
     "execution_count": 5,
     "metadata": {},
     "output_type": "execute_result"
    }
   ],
   "source": [
    "def area_triangle(h,b):\n",
    "    area= (h*b)/2\n",
    "    return area\n",
    "area_triangle(2,3)"
   ]
  },
  {
   "cell_type": "markdown",
   "metadata": {},
   "source": [
    "### Q6.Calculate Interest "
   ]
  },
  {
   "cell_type": "code",
   "execution_count": 6,
   "metadata": {},
   "outputs": [
    {
     "name": "stdout",
     "output_type": "stream",
     "text": [
      "please enter the princial amount: 200\n",
      "please enter the time: 2\n",
      "please enter the rate of the interest: 2\n"
     ]
    },
    {
     "data": {
      "text/plain": [
       "8.0"
      ]
     },
     "execution_count": 6,
     "metadata": {},
     "output_type": "execute_result"
    }
   ],
   "source": [
    "def intrest():\n",
    "    principal=int(input(\"please enter the princial amount: \"))\n",
    "    time = int(input(\"please enter the time: \"))\n",
    "    rate = int(input(\"please enter the rate of the interest: \"))\n",
    "    intrests = (principal*time*rate)/100\n",
    "    return intrests\n",
    "intrest()"
   ]
  },
  {
   "cell_type": "markdown",
   "metadata": {},
   "source": [
    "### Q7.calculate Euclidean Distance "
   ]
  },
  {
   "cell_type": "code",
   "execution_count": 7,
   "metadata": {},
   "outputs": [
    {
     "name": "stdout",
     "output_type": "stream",
     "text": [
      "Enter the X1: 2\n",
      "Enter the X2: 2\n",
      "Enter the y1: 2\n",
      "Enter the y2: 2\n"
     ]
    },
    {
     "data": {
      "text/plain": [
       "0.0"
      ]
     },
     "execution_count": 7,
     "metadata": {},
     "output_type": "execute_result"
    }
   ],
   "source": [
    "def Ecucliadean_distance():\n",
    "    x1= float(input(\"Enter the X1: \"))\n",
    "    x2= float(input(\"Enter the X2: \"))\n",
    "    y1= float(input(\"Enter the y1: \"))\n",
    "    y2= float(input(\"Enter the y2: \"))\n",
    "    distance = ((((x2 - x1 )**2) + ((y2-y1)**2) )**0.5)\n",
    "    return distance\n",
    "Ecucliadean_distance()\n",
    "    "
   ]
  },
  {
   "cell_type": "markdown",
   "metadata": {},
   "source": [
    "## Q8.Feet to centimeter Converter "
   ]
  },
  {
   "cell_type": "code",
   "execution_count": 8,
   "metadata": {},
   "outputs": [
    {
     "name": "stdout",
     "output_type": "stream",
     "text": [
      "Enter measurement in feet: 6\n",
      "The centimeter is 182.88\n"
     ]
    }
   ],
   "source": [
    "def feet_converter():\n",
    "    feet = float(input(\"Enter measurement in feet: \"))\n",
    "    centimeter = 30.48\n",
    "    converetcentimeter = print(f\"The centimeter is {feet*centimeter}\")\n",
    "    return converetcentimeter\n",
    "feet_converter()"
   ]
  },
  {
   "cell_type": "markdown",
   "metadata": {},
   "source": [
    "### Q9.BMI Calculator "
   ]
  },
  {
   "cell_type": "code",
   "execution_count": 9,
   "metadata": {},
   "outputs": [
    {
     "name": "stdout",
     "output_type": "stream",
     "text": [
      "enter weight in kg: 68\n",
      "enter height in meeter: 1.8\n",
      "The calculate Bmi is 20.98765432098765\n"
     ]
    }
   ],
   "source": [
    "def Bmi():\n",
    "    weight = float(input(\"enter weight in kg: \"))\n",
    "    height = float(input(\"enter height in meeter: \"))\n",
    "    bmi_calculation = print(f\"The calculate Bmi is {weight/(height*height)}\")\n",
    "    return bmi_calculation\n",
    "Bmi()"
   ]
  },
  {
   "cell_type": "markdown",
   "metadata": {},
   "source": [
    "### Q10.Binary to Decimal "
   ]
  },
  {
   "cell_type": "code",
   "execution_count": 10,
   "metadata": {},
   "outputs": [
    {
     "name": "stdout",
     "output_type": "stream",
     "text": [
      "Enter decimal number: 23\n"
     ]
    },
    {
     "data": {
      "text/plain": [
       "'0b10111'"
      ]
     },
     "execution_count": 10,
     "metadata": {},
     "output_type": "execute_result"
    }
   ],
   "source": [
    "def binary_Decimal():\n",
    "    decimal= int(input(\"Enter decimal number: \"))\n",
    "    conversion = bin(decimal) \n",
    "    return conversion\n",
    "binary_Decimal()\n",
    "    \n",
    "    "
   ]
  },
  {
   "cell_type": "markdown",
   "metadata": {},
   "source": [
    "### Q11.Receive two integral numbers in string form and compute their sum and then print it in console. "
   ]
  },
  {
   "cell_type": "code",
   "execution_count": 12,
   "metadata": {},
   "outputs": [
    {
     "name": "stdout",
     "output_type": "stream",
     "text": [
      "Enter first number: 23\n",
      "Enter second number: 2\n",
      "The sum of the two number is 25.0\n"
     ]
    }
   ],
   "source": [
    "def string_form():\n",
    "    num1 = float(input('Enter first number: '))\n",
    "    num2 = float(input(\"Enter second number: \"))\n",
    "    sumarize = print(f\"The sum of the two number is {num1+num2}\")\n",
    "    return\n",
    "string_form()"
   ]
  },
  {
   "cell_type": "markdown",
   "metadata": {},
   "source": [
    "### Q12.Bitwise operators for any two variable all the bitwise operator that are there "
   ]
  },
  {
   "cell_type": "code",
   "execution_count": 13,
   "metadata": {},
   "outputs": [
    {
     "name": "stdout",
     "output_type": "stream",
     "text": [
      "\n",
      "a >> 1 = 5\n",
      "b >> 1 = 2\n"
     ]
    }
   ],
   "source": [
    "a= 10\n",
    "b=5\n",
    "print(\"\")\n",
    "print(\"a >> 1 =\", a >> 1)\n",
    "print(\"b >> 1 =\", b >> 1)"
   ]
  },
  {
   "cell_type": "markdown",
   "metadata": {},
   "source": [
    "### Q13.str1=\" this is a sample daTaa to test for the task\" Check if ‘is’ present in str1 "
   ]
  },
  {
   "cell_type": "code",
   "execution_count": 14,
   "metadata": {},
   "outputs": [
    {
     "name": "stdout",
     "output_type": "stream",
     "text": [
      "Yes, present\n"
     ]
    }
   ],
   "source": [
    "def Check_string():\n",
    "    text = \"this is a sample daTaa to test for the task\"\n",
    "    x= text.split()\n",
    "    return x\n",
    "if 'is' in Check_string():\n",
    "    print('Yes, present')\n",
    "else:\n",
    "    print(\"Absent\")\n"
   ]
  },
  {
   "cell_type": "markdown",
   "metadata": {},
   "source": [
    "### Q14.Check if ‘was’ not present in str1     "
   ]
  },
  {
   "cell_type": "code",
   "execution_count": 15,
   "metadata": {},
   "outputs": [
    {
     "name": "stdout",
     "output_type": "stream",
     "text": [
      "absent\n"
     ]
    }
   ],
   "source": [
    "if 'was' in Check_string():\n",
    "    print('Present')\n",
    "else:\n",
    "    print(\"absent\")"
   ]
  },
  {
   "cell_type": "markdown",
   "metadata": {},
   "source": [
    "### Q15.Print str1 in uppercase "
   ]
  },
  {
   "cell_type": "code",
   "execution_count": 16,
   "metadata": {},
   "outputs": [
    {
     "data": {
      "text/plain": [
       "' THIS IS A SAMPLE DATAA TO TEST FOR THE TASK'"
      ]
     },
     "execution_count": 16,
     "metadata": {},
     "output_type": "execute_result"
    }
   ],
   "source": [
    "str1=\" this is a sample daTaa to test for the task\"\n",
    "str1.upper()"
   ]
  },
  {
   "cell_type": "markdown",
   "metadata": {},
   "source": [
    "### Q16.Print str1 as title "
   ]
  },
  {
   "cell_type": "code",
   "execution_count": 17,
   "metadata": {},
   "outputs": [
    {
     "data": {
      "text/plain": [
       "' This Is A Sample Dataa To Test For The Task'"
      ]
     },
     "execution_count": 17,
     "metadata": {},
     "output_type": "execute_result"
    }
   ],
   "source": [
    "str1.title()"
   ]
  },
  {
   "cell_type": "markdown",
   "metadata": {},
   "source": [
    "### Q17.Get a new string from str1 ‘DatTaa’ as ‘Data’ "
   ]
  },
  {
   "cell_type": "code",
   "execution_count": 18,
   "metadata": {},
   "outputs": [
    {
     "name": "stdout",
     "output_type": "stream",
     "text": [
      " this is a sample data to test for the task\n"
     ]
    }
   ],
   "source": [
    "str1=\" this is a sample daTaa to test for the task\"\n",
    "new_str=print(str1.replace('daTaa', 'data'))\n",
    "new_str"
   ]
  },
  {
   "cell_type": "markdown",
   "metadata": {},
   "source": [
    "### Q18.Print a new string with extra \"a\" removed form previous task "
   ]
  },
  {
   "cell_type": "code",
   "execution_count": 19,
   "metadata": {},
   "outputs": [],
   "source": [
    "new_str1=\" this is a sample data to test for the task\"\n",
    "\n",
    "#print(new_str.replace('data','dat'))"
   ]
  },
  {
   "cell_type": "markdown",
   "metadata": {},
   "source": [
    "### Q19.Display ‘sample’ word from ‘ this is another sample string ‘ *"
   ]
  },
  {
   "cell_type": "code",
   "execution_count": 20,
   "metadata": {},
   "outputs": [
    {
     "data": {
      "text/plain": [
       "['this', 'is', 'another', 'sample', 'string']"
      ]
     },
     "execution_count": 20,
     "metadata": {},
     "output_type": "execute_result"
    }
   ],
   "source": [
    "txt = \"this is another sample string\"\n",
    "txt.split()\n",
    "    "
   ]
  },
  {
   "cell_type": "code",
   "execution_count": 21,
   "metadata": {},
   "outputs": [
    {
     "data": {
      "text/plain": [
       "'h'"
      ]
     },
     "execution_count": 21,
     "metadata": {},
     "output_type": "execute_result"
    }
   ],
   "source": [
    "txt = \"this is another sample string\"\n",
    "txt[1]"
   ]
  },
  {
   "cell_type": "markdown",
   "metadata": {},
   "source": [
    "### Q20.Display date, month and year form 21-oct-2020 "
   ]
  },
  {
   "cell_type": "code",
   "execution_count": 22,
   "metadata": {},
   "outputs": [],
   "source": [
    "txt = \"21-oct-2020\"\n",
    "split_text=txt.split(\"-\")\n",
    "day=split_text[0]\n",
    "month = split_text[1]\n",
    "year = split_text[2]\n"
   ]
  },
  {
   "cell_type": "code",
   "execution_count": 23,
   "metadata": {},
   "outputs": [
    {
     "data": {
      "text/plain": [
       "'oct'"
      ]
     },
     "execution_count": 23,
     "metadata": {},
     "output_type": "execute_result"
    }
   ],
   "source": [
    "month"
   ]
  },
  {
   "cell_type": "code",
   "execution_count": 24,
   "metadata": {},
   "outputs": [
    {
     "data": {
      "text/plain": [
       "'21'"
      ]
     },
     "execution_count": 24,
     "metadata": {},
     "output_type": "execute_result"
    }
   ],
   "source": [
    "day"
   ]
  },
  {
   "cell_type": "code",
   "execution_count": 25,
   "metadata": {},
   "outputs": [
    {
     "data": {
      "text/plain": [
       "'2020'"
      ]
     },
     "execution_count": 25,
     "metadata": {},
     "output_type": "execute_result"
    }
   ],
   "source": [
    "year"
   ]
  },
  {
   "cell_type": "markdown",
   "metadata": {},
   "source": [
    "### Q21.rr = “10,20,30,40,50,60,70”, get “50,60” "
   ]
  },
  {
   "cell_type": "code",
   "execution_count": 26,
   "metadata": {},
   "outputs": [
    {
     "data": {
      "text/plain": [
       "'50,60'"
      ]
     },
     "execution_count": 26,
     "metadata": {},
     "output_type": "execute_result"
    }
   ],
   "source": [
    "arr = \"10,20,30,40,50,60,70\"\n",
    "new_index = arr[12:17]\n",
    "new_index"
   ]
  },
  {
   "cell_type": "markdown",
   "metadata": {},
   "source": [
    "### Q22.using negative index get \"50 ,60\""
   ]
  },
  {
   "cell_type": "code",
   "execution_count": 27,
   "metadata": {},
   "outputs": [
    {
     "data": {
      "text/plain": [
       "'50,60'"
      ]
     },
     "execution_count": 27,
     "metadata": {},
     "output_type": "execute_result"
    }
   ],
   "source": [
    "neg_index=arr[-8:-3]\n",
    "neg_index"
   ]
  },
  {
   "cell_type": "markdown",
   "metadata": {},
   "source": [
    "### Q23. From credit_str get ‘8888’ credit_str = \"xxxx----xxxx-8888------xxxx\""
   ]
  },
  {
   "cell_type": "code",
   "execution_count": 28,
   "metadata": {},
   "outputs": [
    {
     "data": {
      "text/plain": [
       "'8888'"
      ]
     },
     "execution_count": 28,
     "metadata": {},
     "output_type": "execute_result"
    }
   ],
   "source": [
    "credit_str = \"xxxx----xxxx-8888------xxxx\"\n",
    "new_credit_str = credit_str[13:17]\n",
    "new_credit_str"
   ]
  },
  {
   "cell_type": "markdown",
   "metadata": {},
   "source": [
    "### Q24.convert a integer into a string and print it in console"
   ]
  },
  {
   "cell_type": "code",
   "execution_count": 29,
   "metadata": {},
   "outputs": [
    {
     "data": {
      "text/plain": [
       "str"
      ]
     },
     "execution_count": 29,
     "metadata": {},
     "output_type": "execute_result"
    }
   ],
   "source": [
    "num1 =123\n",
    "converter = str(num1)\n",
    "type(converter)"
   ]
  },
  {
   "cell_type": "markdown",
   "metadata": {},
   "source": [
    "### Q25. take two strings as input and concatenate them and then print it"
   ]
  },
  {
   "cell_type": "code",
   "execution_count": 1,
   "metadata": {},
   "outputs": [
    {
     "name": "stdout",
     "output_type": "stream",
     "text": [
      "Enter your first name: mani\n",
      "Enter your Second name: bhattarai\n",
      "The fullname is :mani bhattarai\n"
     ]
    }
   ],
   "source": [
    "first_name =input(\"Enter your first name: \")\n",
    "second_name = input(\"Enter your Second name: \")\n",
    "print(f'The fullname is :{first_name +\" \"+ second_name}')\n"
   ]
  },
  {
   "cell_type": "markdown",
   "metadata": {},
   "source": [
    "#### Q26. From credit_str get ‘0’ credit_str = \"1234-5678-9878-0434\""
   ]
  },
  {
   "cell_type": "code",
   "execution_count": 2,
   "metadata": {},
   "outputs": [
    {
     "data": {
      "text/plain": [
       "'0'"
      ]
     },
     "execution_count": 2,
     "metadata": {},
     "output_type": "execute_result"
    }
   ],
   "source": [
    "credit_str = \"1234-5678-9878-0434\"\n",
    "credit_str[15]\n"
   ]
  },
  {
   "cell_type": "markdown",
   "metadata": {},
   "source": [
    "### Q27. convert the given string into list given_string = \" Apples is differnt from Apple Inc\""
   ]
  },
  {
   "cell_type": "code",
   "execution_count": 3,
   "metadata": {},
   "outputs": [
    {
     "data": {
      "text/plain": [
       "['Apples', 'is', 'differnt', 'from', 'Apple', 'Inc']"
      ]
     },
     "execution_count": 3,
     "metadata": {},
     "output_type": "execute_result"
    }
   ],
   "source": [
    "given_string = \"Apples is differnt from Apple Inc\"\n",
    "li = given_string.split(\" \")\n",
    "type(li)\n",
    "li"
   ]
  },
  {
   "cell_type": "markdown",
   "metadata": {},
   "source": [
    "### Q28. print type of a and get the 1 element a = {(1,2):1,(2,3):2}"
   ]
  },
  {
   "cell_type": "code",
   "execution_count": 4,
   "metadata": {},
   "outputs": [
    {
     "data": {
      "text/plain": [
       "dict"
      ]
     },
     "execution_count": 4,
     "metadata": {},
     "output_type": "execute_result"
    }
   ],
   "source": [
    "a = {(1,2):1,(2,3):2}\n",
    "type(a)#printing type of a"
   ]
  },
  {
   "cell_type": "code",
   "execution_count": 5,
   "metadata": {},
   "outputs": [
    {
     "data": {
      "text/plain": [
       "1"
      ]
     },
     "execution_count": 5,
     "metadata": {},
     "output_type": "execute_result"
    }
   ],
   "source": [
    "a.get((1,2))"
   ]
  },
  {
   "cell_type": "markdown",
   "metadata": {},
   "source": [
    "### Q29.write a program to get list as 4,3,2 from the list below a=1,2,3,4,5 "
   ]
  },
  {
   "cell_type": "code",
   "execution_count": 6,
   "metadata": {},
   "outputs": [
    {
     "data": {
      "text/plain": [
       "[4, 3, 2]"
      ]
     },
     "execution_count": 6,
     "metadata": {},
     "output_type": "execute_result"
    }
   ],
   "source": [
    "a = [1,2,3,4,5]\n",
    "new_li = a[1:4]\n",
    "another_li = new_li[::-1]\n",
    "another_li"
   ]
  },
  {
   "cell_type": "markdown",
   "metadata": {},
   "source": [
    "### Q30.write a program to get odd number only using a slicing a=1,2,3,4,5,6,7,8,9 "
   ]
  },
  {
   "cell_type": "code",
   "execution_count": 7,
   "metadata": {},
   "outputs": [
    {
     "data": {
      "text/plain": [
       "[1, 3, 5, 7, 9]"
      ]
     },
     "execution_count": 7,
     "metadata": {},
     "output_type": "execute_result"
    }
   ],
   "source": [
    "a = [1,2,3,4,5,6,7,8,9]\n",
    "odd_num=a[::2]\n",
    "odd_num"
   ]
  },
  {
   "cell_type": "markdown",
   "metadata": {},
   "source": [
    "### Q31.create a tuple with (1,2) 5 times"
   ]
  },
  {
   "cell_type": "code",
   "execution_count": null,
   "metadata": {},
   "outputs": [],
   "source": [
    " "
   ]
  },
  {
   "cell_type": "markdown",
   "metadata": {},
   "source": [
    "### Q32.from given list create separate lists of strings and numbers.use list comprehension gadgets = \"Mobile\", \"Laptop\", 100, \"Camera\", 310.28, \"Speakers\", 27.00, \"Television\", 1000, \"Laptop Case\", \"Camera Le "
   ]
  },
  {
   "cell_type": "code",
   "execution_count": 8,
   "metadata": {},
   "outputs": [],
   "source": [
    "gadgets = ['Mobile','Laptop',100,'camera',310.28,'Speakers',27.0,'Television',1000,'Laptop Case','Camera Lens']\n",
    "stringlist = [x for x in gadgets if isinstance(x,str)]"
   ]
  },
  {
   "cell_type": "code",
   "execution_count": 9,
   "metadata": {},
   "outputs": [
    {
     "data": {
      "text/plain": [
       "[310.28, 27.0, 100, 1000]"
      ]
     },
     "execution_count": 9,
     "metadata": {},
     "output_type": "execute_result"
    }
   ],
   "source": [
    "numberlistint = [x for x in gadgets if isinstance(x,float)]\n",
    "numberlistfloat = [x for x in gadgets if isinstance (x,int)]\n",
    "new_numberlist = numberlistint + numberlistfloat\n",
    "new_numberlist"
   ]
  },
  {
   "cell_type": "markdown",
   "metadata": {},
   "source": [
    "### Q33.An array is given from the array find the sum of diagonal using list comprehension a_2d=[1, 2, 3, 4, 5, 6, 7, 8, 9] "
   ]
  },
  {
   "cell_type": "code",
   "execution_count": 10,
   "metadata": {},
   "outputs": [
    {
     "data": {
      "text/plain": [
       "[2, 4, 6, 8, 10, 12, 14, 16, 18]"
      ]
     },
     "execution_count": 10,
     "metadata": {},
     "output_type": "execute_result"
    }
   ],
   "source": [
    "a_2d=[1, 2, 3, 4, 5, 6, 7, 8, 9]\n",
    "sum1 = [x+x for x in a_2d ]\n",
    "sum1"
   ]
  },
  {
   "cell_type": "markdown",
   "metadata": {},
   "source": [
    "### Q34.convert number into tuple of words using comprehension num=8976543201 "
   ]
  },
  {
   "cell_type": "code",
   "execution_count": 11,
   "metadata": {},
   "outputs": [
    {
     "data": {
      "text/plain": [
       "('8', '9', '7', '6', '5', '4', '3', '2', '0', '1')"
      ]
     },
     "execution_count": 11,
     "metadata": {},
     "output_type": "execute_result"
    }
   ],
   "source": [
    "num = '8976543201'\n",
    "mytuple = tuple(num)\n",
    "mytuple"
   ]
  },
  {
   "cell_type": "markdown",
   "metadata": {},
   "source": [
    "### Q35.print the numbers which are divisible by 2 but are not a multiple of 5 numbers = range(1, 10) "
   ]
  },
  {
   "cell_type": "code",
   "execution_count": 12,
   "metadata": {},
   "outputs": [
    {
     "data": {
      "text/plain": [
       "[2, 4, 6, 8]"
      ]
     },
     "execution_count": 12,
     "metadata": {},
     "output_type": "execute_result"
    }
   ],
   "source": [
    "division = [x for x in range(1,10) if x%2==0 ]\n",
    "division"
   ]
  },
  {
   "cell_type": "markdown",
   "metadata": {},
   "source": [
    "### Q36.print the sum of tuple : use comprehension init_tuple = [(0, 1), (1, 2), (2, 3)] "
   ]
  },
  {
   "cell_type": "code",
   "execution_count": 13,
   "metadata": {},
   "outputs": [
    {
     "data": {
      "text/plain": [
       "[1, 3, 5]"
      ]
     },
     "execution_count": 13,
     "metadata": {},
     "output_type": "execute_result"
    }
   ],
   "source": [
    "init_tuple = [(0, 1), (1, 2), (2, 3)]\n",
    "[i+j for i,j in init_tuple ]\n",
    "    \n"
   ]
  },
  {
   "cell_type": "markdown",
   "metadata": {},
   "source": [
    "### Q37.delete the last coumn from the given 4*4 matrix arr = [[1, 2, 3, 4], [4, 5, 6, 7], [8, 9, 10, 11], [12, 13, 14, 15]]*"
   ]
  },
  {
   "cell_type": "code",
   "execution_count": 14,
   "metadata": {},
   "outputs": [
    {
     "data": {
      "text/plain": [
       "[4, 5, 6, 7]"
      ]
     },
     "execution_count": 14,
     "metadata": {},
     "output_type": "execute_result"
    }
   ],
   "source": [
    "arr = [[1, 2, 3, 4], [4, 5, 6, 7], [8, 9, 10, 11], [12, 13, 14, 15]]\n",
    "remove_arr = arr.pop(1)\n",
    "remove_arr"
   ]
  },
  {
   "cell_type": "markdown",
   "metadata": {},
   "source": [
    "### Q38.get the list of value of dict in sorted way dict = {'c': 97, 'a': 96, 'b': 98} "
   ]
  },
  {
   "cell_type": "code",
   "execution_count": 15,
   "metadata": {},
   "outputs": [
    {
     "name": "stdout",
     "output_type": "stream",
     "text": [
      "[96, 97, 98]\n"
     ]
    }
   ],
   "source": [
    "dict1 = {'c': 97, 'a': 96, 'b': 98} \n",
    "dict1_val = dict1.values()\n",
    "print(sorted(dict1_val))\n"
   ]
  },
  {
   "cell_type": "markdown",
   "metadata": {},
   "source": [
    "###  Q39.Creating a Dictionary with Integer Keys and print it"
   ]
  },
  {
   "cell_type": "code",
   "execution_count": 16,
   "metadata": {},
   "outputs": [
    {
     "data": {
      "text/plain": [
       "dict_keys([1, 3])"
      ]
     },
     "execution_count": 16,
     "metadata": {},
     "output_type": "execute_result"
    }
   ],
   "source": [
    "dict2 = {1:2,3:4}\n",
    "dict2.keys()\n"
   ]
  },
  {
   "cell_type": "markdown",
   "metadata": {},
   "source": [
    "### Q40.Creating a Dictionary with Mixed keys"
   ]
  },
  {
   "cell_type": "code",
   "execution_count": 17,
   "metadata": {},
   "outputs": [
    {
     "data": {
      "text/plain": [
       "dict_keys(['name', 'age', 'height', 1994])"
      ]
     },
     "execution_count": 17,
     "metadata": {},
     "output_type": "execute_result"
    }
   ],
   "source": [
    "dict3 = {'name':'Mani','age':25,'height':183,1994:'date'}\n",
    "dict3.keys()"
   ]
  },
  {
   "cell_type": "markdown",
   "metadata": {},
   "source": [
    "### Q41.Creating an empty Dictionary "
   ]
  },
  {
   "cell_type": "code",
   "execution_count": 18,
   "metadata": {},
   "outputs": [
    {
     "data": {
      "text/plain": [
       "{}"
      ]
     },
     "execution_count": 18,
     "metadata": {},
     "output_type": "execute_result"
    }
   ],
   "source": [
    "dict3 ={}\n",
    "dict3"
   ]
  },
  {
   "cell_type": "markdown",
   "metadata": {},
   "source": [
    "### Q42. Creating a Dictionary with dict() method"
   ]
  },
  {
   "cell_type": "code",
   "execution_count": 19,
   "metadata": {},
   "outputs": [
    {
     "data": {
      "text/plain": [
       "{1: 2, 2: 3, 3: 4}"
      ]
     },
     "execution_count": 19,
     "metadata": {},
     "output_type": "execute_result"
    }
   ],
   "source": [
    "dict4 = dict([(1,2),(2,3),(3,4)])\n",
    "dict4"
   ]
  },
  {
   "cell_type": "markdown",
   "metadata": {},
   "source": [
    "### Q43.Creating a Dictionary with each item as a Pair"
   ]
  },
  {
   "cell_type": "code",
   "execution_count": 20,
   "metadata": {},
   "outputs": [
    {
     "data": {
      "text/plain": [
       "{'names': ['Mani', 'Pawan'],\n",
       " 'ages': [25, 27],\n",
       " 'address': ['kathamandu', 'Nawalparasi']}"
      ]
     },
     "execution_count": 20,
     "metadata": {},
     "output_type": "execute_result"
    }
   ],
   "source": [
    "dict5 = {'names':['Mani','Pawan'],'ages':[25,27],'address':['kathamandu','Nawalparasi']}\n",
    "dict5"
   ]
  },
  {
   "cell_type": "markdown",
   "metadata": {},
   "source": [
    "### Q44.Creating a Nested Dictionary as shown in the below image {1: 'python', 2: 'For', 3: {'A': 'Welcome', 'B': 'To', 'C': 'Python', 'D': 'class'}} "
   ]
  },
  {
   "cell_type": "code",
   "execution_count": 21,
   "metadata": {},
   "outputs": [
    {
     "data": {
      "text/plain": [
       "{'name': {'firstname': 'Mani', 'Surname': 'Bhattarai'},\n",
       " 'Address': {'coutry': 'Finalnd', 'city': 'Turku'}}"
      ]
     },
     "execution_count": 21,
     "metadata": {},
     "output_type": "execute_result"
    }
   ],
   "source": [
    "dict6 = {'name':{'firstname':'Mani','Surname':'Bhattarai'},'Address':{'coutry':'Finalnd','city':'Turku'}}\n",
    "dict6"
   ]
  },
  {
   "cell_type": "markdown",
   "metadata": {},
   "source": [
    "### Q45.Add a Nested Key value to nested dictionary Dictionary "
   ]
  },
  {
   "cell_type": "code",
   "execution_count": 22,
   "metadata": {},
   "outputs": [],
   "source": [
    "dict6['Address']['street']= 'Yö-kyla'"
   ]
  },
  {
   "cell_type": "code",
   "execution_count": 23,
   "metadata": {},
   "outputs": [
    {
     "data": {
      "text/plain": [
       "{'name': {'firstname': 'Mani', 'Surname': 'Bhattarai'},\n",
       " 'Address': {'coutry': 'Finalnd', 'city': 'Turku', 'street': 'Yö-kyla'}}"
      ]
     },
     "execution_count": 23,
     "metadata": {},
     "output_type": "execute_result"
    }
   ],
   "source": [
    "dict6"
   ]
  },
  {
   "cell_type": "markdown",
   "metadata": {},
   "source": [
    "### Q46.create a dictionary with id:num and value: square for range (0,6) using dict comprehension "
   ]
  },
  {
   "cell_type": "code",
   "execution_count": 24,
   "metadata": {},
   "outputs": [
    {
     "data": {
      "text/plain": [
       "{0: 0, 2: 2, 4: 4}"
      ]
     },
     "execution_count": 24,
     "metadata": {},
     "output_type": "execute_result"
    }
   ],
   "source": [
    "{k:v for k,v in enumerate(range(0,6)) if v%2==0}"
   ]
  },
  {
   "cell_type": "markdown",
   "metadata": {},
   "source": [
    "### Q47.create a dictionary using dict comprehension to get the odd square only "
   ]
  },
  {
   "cell_type": "code",
   "execution_count": 25,
   "metadata": {},
   "outputs": [
    {
     "data": {
      "text/plain": [
       "{1: 1, 3: 3, 5: 5}"
      ]
     },
     "execution_count": 25,
     "metadata": {},
     "output_type": "execute_result"
    }
   ],
   "source": [
    "{k:v for k,v in enumerate(range(0,6)) if v%2!=0}"
   ]
  },
  {
   "cell_type": "markdown",
   "metadata": {},
   "source": [
    "### Q48 from a given dict {1: 'a', 2: 'b', 3: 'c'} change the key into item and viceversa "
   ]
  },
  {
   "cell_type": "code",
   "execution_count": 26,
   "metadata": {},
   "outputs": [
    {
     "name": "stdout",
     "output_type": "stream",
     "text": [
      "dict_items([(1, 'a'), (2, 'b'), (3, 'f')])\n"
     ]
    }
   ],
   "source": [
    "dict7 ={1:'a',2:'b',3:'c'}\n",
    "x = dict7.items()\n",
    "dict7[3] ='f'\n",
    "print(x)"
   ]
  },
  {
   "cell_type": "markdown",
   "metadata": {},
   "source": [
    "### Q49.get a hello from the given dict d = {'k1':[{'nest_key':['this is deep','hello']}]} *"
   ]
  },
  {
   "cell_type": "code",
   "execution_count": 27,
   "metadata": {},
   "outputs": [
    {
     "name": "stdout",
     "output_type": "stream",
     "text": [
      "hello\n"
     ]
    }
   ],
   "source": [
    "d = {'k1':[{'nest_key':['this is deep','hello']}]}\n",
    "print(d['k1'][0]['nest_key'][1])\n",
    "    \n"
   ]
  },
  {
   "cell_type": "code",
   "execution_count": null,
   "metadata": {},
   "outputs": [],
   "source": []
  },
  {
   "cell_type": "markdown",
   "metadata": {},
   "source": [
    "### Q50.Divisibility Check of user given 2 input of numbers "
   ]
  },
  {
   "cell_type": "code",
   "execution_count": 28,
   "metadata": {},
   "outputs": [
    {
     "name": "stdout",
     "output_type": "stream",
     "text": [
      "Enter a num23\n",
      "Enter another num24\n",
      "They are not Divisible\n"
     ]
    }
   ],
   "source": [
    "num1=int(input(\"Enter a num\"))\n",
    "num2 = int(input(\"Enter another num\"))\n",
    "if num1%num2==0 or num2%num1==0:\n",
    "    print(\"They are divisible\")\n",
    "else:\n",
    "    print(\"They are not Divisible\")"
   ]
  },
  {
   "cell_type": "markdown",
   "metadata": {},
   "source": [
    "### Q51. Check if number is even or odd "
   ]
  },
  {
   "cell_type": "code",
   "execution_count": 29,
   "metadata": {},
   "outputs": [
    {
     "name": "stdout",
     "output_type": "stream",
     "text": [
      "Odd number\n"
     ]
    }
   ],
   "source": [
    "def even_odd(n):\n",
    "    if n%2==0:\n",
    "        print('Even number')\n",
    "    else:\n",
    "        print('Odd number')\n",
    "even_odd(45)"
   ]
  },
  {
   "cell_type": "markdown",
   "metadata": {},
   "source": [
    "### Q52.Check whether Entered character is Vowel or not "
   ]
  },
  {
   "cell_type": "code",
   "execution_count": 30,
   "metadata": {},
   "outputs": [
    {
     "name": "stdout",
     "output_type": "stream",
     "text": [
      "Enter a letter of alphabetasdbsd\n",
      "This is Consonant\n"
     ]
    }
   ],
   "source": [
    "vowel = ['a','A','e','E','i','I','o','O','u','U']\n",
    "ch = input(\"Enter a letter of alphabet\")\n",
    "if ch in vowel:\n",
    "    print('This is Vowel')\n",
    "else:\n",
    "    print('This is Consonant')\n"
   ]
  },
  {
   "cell_type": "markdown",
   "metadata": {},
   "source": [
    "### Q53.calculate Sum of n positive Integer example: Sum of n positive Integer till 2 is 3 "
   ]
  },
  {
   "cell_type": "code",
   "execution_count": 32,
   "metadata": {},
   "outputs": [
    {
     "name": "stdout",
     "output_type": "stream",
     "text": [
      "Enter a positive integer 23\n",
      "The sum of the first 23,positive integers 276.0\n"
     ]
    }
   ],
   "source": [
    "n= int(input(\"Enter a positive integer \"))\n",
    "total = n*(n+1)/2\n",
    "print(f\"The sum of the first {n},positive integers {total}\")\n",
    "    \n"
   ]
  },
  {
   "cell_type": "markdown",
   "metadata": {},
   "source": [
    "### Q54.calculate the Digit Sum of a number (eg: 123 print 1+2+3=6) "
   ]
  },
  {
   "cell_type": "code",
   "execution_count": 33,
   "metadata": {},
   "outputs": [
    {
     "name": "stdout",
     "output_type": "stream",
     "text": [
      "Enter a number:23\n",
      "The total sum of digits is: 5\n"
     ]
    }
   ],
   "source": [
    " \n",
    "n=int(input(\"Enter a number:\"))\n",
    "tot=0\n",
    "while(n>0):\n",
    "    dig=n%10\n",
    "    tot=tot+dig\n",
    "    n=n//10\n",
    "print(\"The total sum of digits is:\",tot)"
   ]
  },
  {
   "cell_type": "markdown",
   "metadata": {},
   "source": [
    "### Q55.Count Numbers, Alphabets, and Special Character from user input string "
   ]
  },
  {
   "cell_type": "code",
   "execution_count": 34,
   "metadata": {},
   "outputs": [
    {
     "name": "stdout",
     "output_type": "stream",
     "text": [
      "Enter you string whatever you wantass@£$\n",
      "The total number of digits is: 0\n",
      "The total number of Alphabets is:  3\n",
      "THe total number of Special Character is:  3\n"
     ]
    }
   ],
   "source": [
    "user_string=input(\"Enter you string whatever you want\")\n",
    "Number=0\n",
    "Alphabets=0\n",
    "Special_Character = 0\n",
    "for i in range(len(user_string)):\n",
    "    if (user_string[i].isalpha()):\n",
    "        Alphabets = Alphabets + 1\n",
    "    elif (user_string[i].isdigit()):\n",
    "        Number = Number + 1\n",
    "    else: \n",
    "        Special_Character = Special_Character + 1\n",
    "\n",
    "print(f\"The total number of digits is:\",Number)\n",
    "print(f\"The total number of Alphabets is: \",Alphabets)\n",
    "print(f\"THe total number of Special Character is: \",Special_Character)\n",
    "\n",
    "\n",
    "\n",
    "        "
   ]
  },
  {
   "cell_type": "markdown",
   "metadata": {},
   "source": [
    "### Q56.constuct the given pattern "
   ]
  },
  {
   "cell_type": "code",
   "execution_count": 35,
   "metadata": {},
   "outputs": [
    {
     "name": "stdout",
     "output_type": "stream",
     "text": [
      "\n",
      "* \n",
      "* * \n",
      "* * * \n",
      "* * * * \n",
      "* * * * * \n",
      "* * * * \n",
      "* * * \n",
      "* * \n",
      "* \n"
     ]
    }
   ],
   "source": [
    "n=5\n",
    "for i in range(n):\n",
    "    for j in range(i):\n",
    "        print('* ',end=\"\")\n",
    "    print(\"\")\n",
    "for i in range(n,0,-1):\n",
    "    for j in range(i):\n",
    "        print('* ',end=\"\")\n",
    "    print('')"
   ]
  },
  {
   "cell_type": "markdown",
   "metadata": {},
   "source": [
    "### Q57. Count number of characters in a string eg : {'h': 1, 'e': 1, 'l': 2, 'o': 1}"
   ]
  },
  {
   "cell_type": "code",
   "execution_count": 36,
   "metadata": {},
   "outputs": [
    {
     "data": {
      "text/plain": [
       "4"
      ]
     },
     "execution_count": 36,
     "metadata": {},
     "output_type": "execute_result"
    }
   ],
   "source": [
    "def count_char(text):\n",
    "    count = 0\n",
    "    for ch in text:\n",
    "        count += 1\n",
    "    return count\n",
    "\n",
    "mani = {'h': 1, 'e': 1, 'l': 2, 'o': 1}\n",
    "count_char(mani)"
   ]
  },
  {
   "cell_type": "markdown",
   "metadata": {},
   "source": [
    "### Q58. write a program to compute 5/0 using try except"
   ]
  },
  {
   "cell_type": "code",
   "execution_count": 37,
   "metadata": {},
   "outputs": [
    {
     "name": "stdout",
     "output_type": "stream",
     "text": [
      "division by zero\n"
     ]
    }
   ],
   "source": [
    "try:\n",
    "    x= 5/0\n",
    "except ZeroDivisionError:\n",
    "    print('division by zero')"
   ]
  },
  {
   "cell_type": "markdown",
   "metadata": {},
   "source": [
    "### Q59. Handle the exception thrown by the code below by using try and except blocks. li=[\"hello\",\"class\"] for i in li: print (i**2) "
   ]
  },
  {
   "cell_type": "code",
   "execution_count": 38,
   "metadata": {},
   "outputs": [
    {
     "name": "stdout",
     "output_type": "stream",
     "text": [
      "unsupported operand type(s) for ** or pow(): \"str\" and \"int\"\n"
     ]
    }
   ],
   "source": [
    "def blocks():\n",
    "    li=[\"hello\",\"class\"] \n",
    "    for i in li:\n",
    "        print(i**2)  \n",
    "try:\n",
    "    blocks()\n",
    "except TypeError:\n",
    "    print('unsupported operand type(s) for ** or pow(): \"str\" and \"int\"')"
   ]
  },
  {
   "cell_type": "markdown",
   "metadata": {},
   "source": [
    "### Q60.Write a function that asks for an integer and prints the square of it. Use a while loop with a try,except, else block to account for incorrect inputs.\n",
    "\n",
    "***example: Input an integer: null An error occurred! Please try again! Input an integer: 2 Thank you, you number squared is: 4 ***"
   ]
  },
  {
   "cell_type": "code",
   "execution_count": null,
   "metadata": {},
   "outputs": [
    {
     "name": "stdout",
     "output_type": "stream",
     "text": [
      "Enter a integer0\n",
      "Enter a integer\n",
      "null An error occurred! Please try again!\n"
     ]
    }
   ],
   "source": [
    "def integer():\n",
    "    x = int(input('Enter a integer'))\n",
    "    return x**2\n",
    "\n",
    "while True:\n",
    "    try:\n",
    "        integer()\n",
    "    except ValueError:\n",
    "        print(\"null An error occurred! Please try again!\")\n",
    "        print(f'Input an integer: {x} Thank you, you number squared is: {integer()}')\n",
    "    "
   ]
  },
  {
   "cell_type": "code",
   "execution_count": null,
   "metadata": {},
   "outputs": [],
   "source": [
    "\n",
    "d = {'k1':[{'nest_key':['this is deep','hello']}]}\n",
    "print(d.k1['nest_key'][1]"
   ]
  },
  {
   "cell_type": "markdown",
   "metadata": {},
   "source": [
    "### Q61.Accept the String and print the words composed of digits only "
   ]
  },
  {
   "cell_type": "code",
   "execution_count": null,
   "metadata": {},
   "outputs": [],
   "source": []
  },
  {
   "cell_type": "code",
   "execution_count": null,
   "metadata": {},
   "outputs": [],
   "source": []
  }
 ],
 "metadata": {
  "kernelspec": {
   "display_name": "Python 3",
   "language": "python",
   "name": "python3"
  },
  "language_info": {
   "codemirror_mode": {
    "name": "ipython",
    "version": 3
   },
   "file_extension": ".py",
   "mimetype": "text/x-python",
   "name": "python",
   "nbconvert_exporter": "python",
   "pygments_lexer": "ipython3",
   "version": "3.8.1"
  }
 },
 "nbformat": 4,
 "nbformat_minor": 4
}
